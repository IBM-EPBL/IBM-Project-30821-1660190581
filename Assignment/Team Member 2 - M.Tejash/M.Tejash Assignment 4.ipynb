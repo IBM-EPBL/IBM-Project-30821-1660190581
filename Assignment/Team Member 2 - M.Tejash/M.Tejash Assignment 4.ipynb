{
 "cells": [
  {
   "cell_type": "markdown",
   "id": "c5ecc8b3",
   "metadata": {},
   "source": [
    "# 1.Download the dataset: Dataset"
   ]
  },
  {
   "cell_type": "markdown",
   "id": "13561e40",
   "metadata": {},
   "source": [
    "# 2. Load the dataset."
   ]
  },
  {
   "cell_type": "code",
   "execution_count": 1,
   "id": "aed39706",
   "metadata": {},
   "outputs": [],
   "source": [
    "import pandas as pd\n",
    "import matplotlib.pyplot as plt\n",
    "import numpy as np\n",
    "import seaborn as sns"
   ]
  },
  {
   "cell_type": "code",
   "execution_count": 2,
   "id": "5065f357",
   "metadata": {},
   "outputs": [
    {
     "data": {
      "text/html": [
       "<div>\n",
       "<style scoped>\n",
       "    .dataframe tbody tr th:only-of-type {\n",
       "        vertical-align: middle;\n",
       "    }\n",
       "\n",
       "    .dataframe tbody tr th {\n",
       "        vertical-align: top;\n",
       "    }\n",
       "\n",
       "    .dataframe thead th {\n",
       "        text-align: right;\n",
       "    }\n",
       "</style>\n",
       "<table border=\"1\" class=\"dataframe\">\n",
       "  <thead>\n",
       "    <tr style=\"text-align: right;\">\n",
       "      <th></th>\n",
       "      <th>CustomerID</th>\n",
       "      <th>Gender</th>\n",
       "      <th>Age</th>\n",
       "      <th>Annual Income (k$)</th>\n",
       "      <th>Spending Score (1-100)</th>\n",
       "    </tr>\n",
       "  </thead>\n",
       "  <tbody>\n",
       "    <tr>\n",
       "      <th>0</th>\n",
       "      <td>1</td>\n",
       "      <td>Male</td>\n",
       "      <td>19</td>\n",
       "      <td>15</td>\n",
       "      <td>39</td>\n",
       "    </tr>\n",
       "    <tr>\n",
       "      <th>1</th>\n",
       "      <td>2</td>\n",
       "      <td>Male</td>\n",
       "      <td>21</td>\n",
       "      <td>15</td>\n",
       "      <td>81</td>\n",
       "    </tr>\n",
       "    <tr>\n",
       "      <th>2</th>\n",
       "      <td>3</td>\n",
       "      <td>Female</td>\n",
       "      <td>20</td>\n",
       "      <td>16</td>\n",
       "      <td>6</td>\n",
       "    </tr>\n",
       "    <tr>\n",
       "      <th>3</th>\n",
       "      <td>4</td>\n",
       "      <td>Female</td>\n",
       "      <td>23</td>\n",
       "      <td>16</td>\n",
       "      <td>77</td>\n",
       "    </tr>\n",
       "    <tr>\n",
       "      <th>4</th>\n",
       "      <td>5</td>\n",
       "      <td>Female</td>\n",
       "      <td>31</td>\n",
       "      <td>17</td>\n",
       "      <td>40</td>\n",
       "    </tr>\n",
       "  </tbody>\n",
       "</table>\n",
       "</div>"
      ],
      "text/plain": [
       "   CustomerID  Gender  Age  Annual Income (k$)  Spending Score (1-100)\n",
       "0           1    Male   19                  15                      39\n",
       "1           2    Male   21                  15                      81\n",
       "2           3  Female   20                  16                       6\n",
       "3           4  Female   23                  16                      77\n",
       "4           5  Female   31                  17                      40"
      ]
     },
     "execution_count": 2,
     "metadata": {},
     "output_type": "execute_result"
    }
   ],
   "source": [
    "file=pd.read_csv(\"C:/Users/MURALI/Downloads/Mall_Customers.csv\")\n",
    "data=pd.DataFrame(file)\n",
    "data.head()"
   ]
  },
  {
   "cell_type": "code",
   "execution_count": 3,
   "id": "ead7703f",
   "metadata": {},
   "outputs": [
    {
     "data": {
      "text/html": [
       "<div>\n",
       "<style scoped>\n",
       "    .dataframe tbody tr th:only-of-type {\n",
       "        vertical-align: middle;\n",
       "    }\n",
       "\n",
       "    .dataframe tbody tr th {\n",
       "        vertical-align: top;\n",
       "    }\n",
       "\n",
       "    .dataframe thead th {\n",
       "        text-align: right;\n",
       "    }\n",
       "</style>\n",
       "<table border=\"1\" class=\"dataframe\">\n",
       "  <thead>\n",
       "    <tr style=\"text-align: right;\">\n",
       "      <th></th>\n",
       "      <th>CustomerID</th>\n",
       "      <th>Gender</th>\n",
       "      <th>Age</th>\n",
       "      <th>Annual Income (k$)</th>\n",
       "      <th>Spending Score (1-100)</th>\n",
       "    </tr>\n",
       "  </thead>\n",
       "  <tbody>\n",
       "    <tr>\n",
       "      <th>195</th>\n",
       "      <td>196</td>\n",
       "      <td>Female</td>\n",
       "      <td>35</td>\n",
       "      <td>120</td>\n",
       "      <td>79</td>\n",
       "    </tr>\n",
       "    <tr>\n",
       "      <th>196</th>\n",
       "      <td>197</td>\n",
       "      <td>Female</td>\n",
       "      <td>45</td>\n",
       "      <td>126</td>\n",
       "      <td>28</td>\n",
       "    </tr>\n",
       "    <tr>\n",
       "      <th>197</th>\n",
       "      <td>198</td>\n",
       "      <td>Male</td>\n",
       "      <td>32</td>\n",
       "      <td>126</td>\n",
       "      <td>74</td>\n",
       "    </tr>\n",
       "    <tr>\n",
       "      <th>198</th>\n",
       "      <td>199</td>\n",
       "      <td>Male</td>\n",
       "      <td>32</td>\n",
       "      <td>137</td>\n",
       "      <td>18</td>\n",
       "    </tr>\n",
       "    <tr>\n",
       "      <th>199</th>\n",
       "      <td>200</td>\n",
       "      <td>Male</td>\n",
       "      <td>30</td>\n",
       "      <td>137</td>\n",
       "      <td>83</td>\n",
       "    </tr>\n",
       "  </tbody>\n",
       "</table>\n",
       "</div>"
      ],
      "text/plain": [
       "     CustomerID  Gender  Age  Annual Income (k$)  Spending Score (1-100)\n",
       "195         196  Female   35                 120                      79\n",
       "196         197  Female   45                 126                      28\n",
       "197         198    Male   32                 126                      74\n",
       "198         199    Male   32                 137                      18\n",
       "199         200    Male   30                 137                      83"
      ]
     },
     "execution_count": 3,
     "metadata": {},
     "output_type": "execute_result"
    }
   ],
   "source": [
    "data.tail()"
   ]
  },
  {
   "cell_type": "code",
   "execution_count": 4,
   "id": "03e68e61",
   "metadata": {},
   "outputs": [
    {
     "name": "stdout",
     "output_type": "stream",
     "text": [
      "<class 'pandas.core.frame.DataFrame'>\n",
      "RangeIndex: 200 entries, 0 to 199\n",
      "Data columns (total 5 columns):\n",
      " #   Column                  Non-Null Count  Dtype \n",
      "---  ------                  --------------  ----- \n",
      " 0   CustomerID              200 non-null    int64 \n",
      " 1   Gender                  200 non-null    object\n",
      " 2   Age                     200 non-null    int64 \n",
      " 3   Annual Income (k$)      200 non-null    int64 \n",
      " 4   Spending Score (1-100)  200 non-null    int64 \n",
      "dtypes: int64(4), object(1)\n",
      "memory usage: 7.9+ KB\n"
     ]
    }
   ],
   "source": [
    "data.info()"
   ]
  },
  {
   "cell_type": "markdown",
   "id": "fa37b3dd",
   "metadata": {},
   "source": [
    "# 3. Perform Below Visualizations."
   ]
  },
  {
   "cell_type": "markdown",
   "id": "c87f7208",
   "metadata": {},
   "source": [
    "#  Univariate Analysis"
   ]
  },
  {
   "cell_type": "code",
   "execution_count": 5,
   "id": "36a84ae0",
   "metadata": {},
   "outputs": [
    {
     "data": {
      "image/png": "[encoded data removed]",
      "text/plain": [
       "<Figure size 432x288 with 1 Axes>"
      ]
     },
     "metadata": {
      "needs_background": "light"
     },
     "output_type": "display_data"
    }
   ],
   "source": [
    "plt.scatter(data.index,data['Age'])\n",
    "plt.show()"
   ]
  },
  {
   "cell_type": "code",
   "execution_count": 6,
   "id": "7f699b03",
   "metadata": {},
   "outputs": [
    {
     "data": {
      "text/plain": [
       "<AxesSubplot:xlabel='Age', ylabel='Count'>"
      ]
     },
     "execution_count": 6,
     "metadata": {},
     "output_type": "execute_result"
    },
    {
     "data": {
      "image/png": "[encoded data removed]",
      "text/plain": [
       "<Figure size 432x288 with 1 Axes>"
      ]
     },
     "metadata": {
      "needs_background": "light"
     },
     "output_type": "display_data"
    }
   ],
   "source": [
    "sns.histplot(data[\"Age\"],color='blue')"
   ]
  },
  {
   "cell_type": "code",
   "execution_count": 7,
   "id": "17d7b5d4",
   "metadata": {},
   "outputs": [
    {
     "data": {
      "text/plain": [
       "<seaborn.axisgrid.FacetGrid at 0x25b55587940>"
      ]
     },
     "execution_count": 7,
     "metadata": {},
     "output_type": "execute_result"
    },
    {
     "data": {
      "image/png": "[encoded data removed]",
      "text/plain": [
       "<Figure size 360x360 with 1 Axes>"
      ]
     },
     "metadata": {
      "needs_background": "light"
     },
     "output_type": "display_data"
    }
   ],
   "source": [
    "sns.displot(data[\"Age\"],color='yellow')\n"
   ]
  },
  {
   "cell_type": "code",
   "execution_count": 8,
   "id": "38b221d3",
   "metadata": {},
   "outputs": [
    {
     "name": "stderr",
     "output_type": "stream",
     "text": [
      "C:\\ProgramData\\Anaconda3\\lib\\site-packages\\seaborn\\_decorators.py:36: FutureWarning: Pass the following variable as a keyword arg: x. From version 0.12, the only valid positional argument will be `data`, and passing other arguments without an explicit keyword will result in an error or misinterpretation.\n",
      "  warnings.warn(\n"
     ]
    },
    {
     "data": {
      "text/plain": [
       "<AxesSubplot:xlabel='Age'>"
      ]
     },
     "execution_count": 8,
     "metadata": {},
     "output_type": "execute_result"
    },
    {
     "data": {
      "image/png": "[encoded data removed]",
      "text/plain": [
       "<Figure size 432x288 with 1 Axes>"
      ]
     },
     "metadata": {
      "needs_background": "light"
     },
     "output_type": "display_data"
    }
   ],
   "source": [
    "sns.boxplot(data[\"Age\"],color='red')\n"
   ]
  },
  {
   "cell_type": "markdown",
   "id": "53668d1a",
   "metadata": {},
   "source": [
    "# Bi-Varient"
   ]
  },
  {
   "cell_type": "code",
   "execution_count": 9,
   "id": "74c7a5ba",
   "metadata": {},
   "outputs": [
    {
     "data": {
      "text/plain": [
       "Text(0, 0.5, '  Gender')"
      ]
     },
     "execution_count": 9,
     "metadata": {},
     "output_type": "execute_result"
    },
    {
     "data": {
      "image/png": "[encoded data removed]",
      "text/plain": [
       "<Figure size 432x288 with 1 Axes>"
      ]
     },
     "metadata": {
      "needs_background": "light"
     },
     "output_type": "display_data"
    }
   ],
   "source": [
    "plt.scatter(data.Age, data.Gender)\n",
    "plt.title(' Age  vs Gender  ')\n",
    "plt.xlabel(' Age ')\n",
    "plt.ylabel('  Gender')"
   ]
  },
  {
   "cell_type": "code",
   "execution_count": 10,
   "id": "22b440ed",
   "metadata": {},
   "outputs": [
    {
     "name": "stderr",
     "output_type": "stream",
     "text": [
      "C:\\ProgramData\\Anaconda3\\lib\\site-packages\\seaborn\\_decorators.py:36: FutureWarning: Pass the following variables as keyword args: x, y. From version 0.12, the only valid positional argument will be `data`, and passing other arguments without an explicit keyword will result in an error or misinterpretation.\n",
      "  warnings.warn(\n"
     ]
    },
    {
     "data": {
      "text/plain": [
       "<AxesSubplot:xlabel='Annual Income (k$)', ylabel='Spending Score (1-100)'>"
      ]
     },
     "execution_count": 10,
     "metadata": {},
     "output_type": "execute_result"
    },
    {
     "data": {
      "image/png": "[encoded data removed]",
      "text/plain": [
       "<Figure size 432x288 with 1 Axes>"
      ]
     },
     "metadata": {
      "needs_background": "light"
     },
     "output_type": "display_data"
    }
   ],
   "source": [
    "sns.barplot(data[\"Annual Income (k$)\"],data[\"Spending Score (1-100)\"])"
   ]
  },
  {
   "cell_type": "code",
   "execution_count": 11,
   "id": "229da573",
   "metadata": {},
   "outputs": [
    {
     "name": "stderr",
     "output_type": "stream",
     "text": [
      "C:\\ProgramData\\Anaconda3\\lib\\site-packages\\seaborn\\_decorators.py:36: FutureWarning: Pass the following variables as keyword args: x, y. From version 0.12, the only valid positional argument will be `data`, and passing other arguments without an explicit keyword will result in an error or misinterpretation.\n",
      "  warnings.warn(\n"
     ]
    },
    {
     "data": {
      "text/plain": [
       "<AxesSubplot:xlabel='Annual Income (k$)', ylabel='Spending Score (1-100)'>"
      ]
     },
     "execution_count": 11,
     "metadata": {},
     "output_type": "execute_result"
    },
    {
     "data": {
      "image/png": "[encoded data removed]",
      "text/plain": [
       "<Figure size 432x288 with 1 Axes>"
      ]
     },
     "metadata": {
      "needs_background": "light"
     },
     "output_type": "display_data"
    }
   ],
   "source": [
    "sns.lineplot(data[\"Annual Income (k$)\"],data[\"Spending Score (1-100)\"], color='blue')\n"
   ]
  },
  {
   "cell_type": "code",
   "execution_count": 12,
   "id": "cacbf269",
   "metadata": {},
   "outputs": [
    {
     "data": {
      "text/plain": [
       "<AxesSubplot:xlabel='Age', ylabel='Gender'>"
      ]
     },
     "execution_count": 12,
     "metadata": {},
     "output_type": "execute_result"
    },
    {
     "data": {
      "image/png": "[encoded data removed]",
      "text/plain": [
       "<Figure size 432x288 with 1 Axes>"
      ]
     },
     "metadata": {
      "needs_background": "light"
     },
     "output_type": "display_data"
    }
   ],
   "source": [
    "sns.scatterplot(x=data.Age,y=data.Gender,color='green')"
   ]
  },
  {
   "cell_type": "code",
   "execution_count": 13,
   "id": "51721a1f",
   "metadata": {},
   "outputs": [
    {
     "name": "stderr",
     "output_type": "stream",
     "text": [
      "C:\\ProgramData\\Anaconda3\\lib\\site-packages\\seaborn\\_decorators.py:36: FutureWarning: Pass the following variables as keyword args: x, y. From version 0.12, the only valid positional argument will be `data`, and passing other arguments without an explicit keyword will result in an error or misinterpretation.\n",
      "  warnings.warn(\n"
     ]
    },
    {
     "data": {
      "text/plain": [
       "<AxesSubplot:xlabel='Annual Income (k$)', ylabel='Spending Score (1-100)'>"
      ]
     },
     "execution_count": 13,
     "metadata": {},
     "output_type": "execute_result"
    },
    {
     "data": {
      "image/png": "[encoded data removed]",
      "text/plain": [
       "<Figure size 432x288 with 1 Axes>"
      ]
     },
     "metadata": {
      "needs_background": "light"
     },
     "output_type": "display_data"
    }
   ],
   "source": [
    "sns.regplot(data['Annual Income (k$)'],data['Spending Score (1-100)'],color='pink')\n"
   ]
  },
  {
   "cell_type": "code",
   "execution_count": 14,
   "id": "ee3f4662",
   "metadata": {},
   "outputs": [
    {
     "data": {
      "text/html": [
       "<div>\n",
       "<style scoped>\n",
       "    .dataframe tbody tr th:only-of-type {\n",
       "        vertical-align: middle;\n",
       "    }\n",
       "\n",
       "    .dataframe tbody tr th {\n",
       "        vertical-align: top;\n",
       "    }\n",
       "\n",
       "    .dataframe thead th {\n",
       "        text-align: right;\n",
       "    }\n",
       "</style>\n",
       "<table border=\"1\" class=\"dataframe\">\n",
       "  <thead>\n",
       "    <tr style=\"text-align: right;\">\n",
       "      <th></th>\n",
       "      <th>CustomerID</th>\n",
       "      <th>Age</th>\n",
       "      <th>Annual Income (k$)</th>\n",
       "      <th>Spending Score (1-100)</th>\n",
       "    </tr>\n",
       "  </thead>\n",
       "  <tbody>\n",
       "    <tr>\n",
       "      <th>CustomerID</th>\n",
       "      <td>1.000000</td>\n",
       "      <td>-0.026763</td>\n",
       "      <td>0.977548</td>\n",
       "      <td>0.013835</td>\n",
       "    </tr>\n",
       "    <tr>\n",
       "      <th>Age</th>\n",
       "      <td>-0.026763</td>\n",
       "      <td>1.000000</td>\n",
       "      <td>-0.012398</td>\n",
       "      <td>-0.327227</td>\n",
       "    </tr>\n",
       "    <tr>\n",
       "      <th>Annual Income (k$)</th>\n",
       "      <td>0.977548</td>\n",
       "      <td>-0.012398</td>\n",
       "      <td>1.000000</td>\n",
       "      <td>0.009903</td>\n",
       "    </tr>\n",
       "    <tr>\n",
       "      <th>Spending Score (1-100)</th>\n",
       "      <td>0.013835</td>\n",
       "      <td>-0.327227</td>\n",
       "      <td>0.009903</td>\n",
       "      <td>1.000000</td>\n",
       "    </tr>\n",
       "  </tbody>\n",
       "</table>\n",
       "</div>"
      ],
      "text/plain": [
       "                        CustomerID       Age  Annual Income (k$)  \\\n",
       "CustomerID                1.000000 -0.026763            0.977548   \n",
       "Age                      -0.026763  1.000000           -0.012398   \n",
       "Annual Income (k$)        0.977548 -0.012398            1.000000   \n",
       "Spending Score (1-100)    0.013835 -0.327227            0.009903   \n",
       "\n",
       "                        Spending Score (1-100)  \n",
       "CustomerID                            0.013835  \n",
       "Age                                  -0.327227  \n",
       "Annual Income (k$)                    0.009903  \n",
       "Spending Score (1-100)                1.000000  "
      ]
     },
     "execution_count": 14,
     "metadata": {},
     "output_type": "execute_result"
    }
   ],
   "source": [
    "data.corr()"
   ]
  },
  {
   "cell_type": "markdown",
   "id": "fe04c5cf",
   "metadata": {},
   "source": [
    "# Multi-Variate"
   ]
  },
  {
   "cell_type": "code",
   "execution_count": 15,
   "id": "d91774f3",
   "metadata": {},
   "outputs": [
    {
     "data": {
      "text/plain": [
       "<function matplotlib.pyplot.show(close=None, block=None)>"
      ]
     },
     "execution_count": 15,
     "metadata": {},
     "output_type": "execute_result"
    },
    {
     "data": {
      "image/png": "[encoded data removed]",
      "text/plain": [
       "<Figure size 1440x1080 with 16 Axes>"
      ]
     },
     "metadata": {
      "needs_background": "light"
     },
     "output_type": "display_data"
    }
   ],
   "source": [
    "pd.plotting.scatter_matrix(data.loc[:,\"CustomerID\":\"Spending Score (1-100)\"],diagonal=\"kde\",figsize=(20,15))\n",
    "plt.show"
   ]
  },
  {
   "cell_type": "markdown",
   "id": "3c727d1a",
   "metadata": {},
   "source": [
    "# 4. Perform descriptive statistics on the dataset"
   ]
  },
  {
   "cell_type": "code",
   "execution_count": 16,
   "id": "e1bb7f31",
   "metadata": {},
   "outputs": [
    {
     "data": {
      "text/html": [
       "<div>\n",
       "<style scoped>\n",
       "    .dataframe tbody tr th:only-of-type {\n",
       "        vertical-align: middle;\n",
       "    }\n",
       "\n",
       "    .dataframe tbody tr th {\n",
       "        vertical-align: top;\n",
       "    }\n",
       "\n",
       "    .dataframe thead th {\n",
       "        text-align: right;\n",
       "    }\n",
       "</style>\n",
       "<table border=\"1\" class=\"dataframe\">\n",
       "  <thead>\n",
       "    <tr style=\"text-align: right;\">\n",
       "      <th></th>\n",
       "      <th>CustomerID</th>\n",
       "      <th>Age</th>\n",
       "      <th>Annual Income (k$)</th>\n",
       "      <th>Spending Score (1-100)</th>\n",
       "    </tr>\n",
       "  </thead>\n",
       "  <tbody>\n",
       "    <tr>\n",
       "      <th>count</th>\n",
       "      <td>200.000000</td>\n",
       "      <td>200.000000</td>\n",
       "      <td>200.000000</td>\n",
       "      <td>200.000000</td>\n",
       "    </tr>\n",
       "    <tr>\n",
       "      <th>mean</th>\n",
       "      <td>100.500000</td>\n",
       "      <td>38.850000</td>\n",
       "      <td>60.560000</td>\n",
       "      <td>50.200000</td>\n",
       "    </tr>\n",
       "    <tr>\n",
       "      <th>std</th>\n",
       "      <td>57.879185</td>\n",
       "      <td>13.969007</td>\n",
       "      <td>26.264721</td>\n",
       "      <td>25.823522</td>\n",
       "    </tr>\n",
       "    <tr>\n",
       "      <th>min</th>\n",
       "      <td>1.000000</td>\n",
       "      <td>18.000000</td>\n",
       "      <td>15.000000</td>\n",
       "      <td>1.000000</td>\n",
       "    </tr>\n",
       "    <tr>\n",
       "      <th>25%</th>\n",
       "      <td>50.750000</td>\n",
       "      <td>28.750000</td>\n",
       "      <td>41.500000</td>\n",
       "      <td>34.750000</td>\n",
       "    </tr>\n",
       "    <tr>\n",
       "      <th>50%</th>\n",
       "      <td>100.500000</td>\n",
       "      <td>36.000000</td>\n",
       "      <td>61.500000</td>\n",
       "      <td>50.000000</td>\n",
       "    </tr>\n",
       "    <tr>\n",
       "      <th>75%</th>\n",
       "      <td>150.250000</td>\n",
       "      <td>49.000000</td>\n",
       "      <td>78.000000</td>\n",
       "      <td>73.000000</td>\n",
       "    </tr>\n",
       "    <tr>\n",
       "      <th>max</th>\n",
       "      <td>200.000000</td>\n",
       "      <td>70.000000</td>\n",
       "      <td>137.000000</td>\n",
       "      <td>99.000000</td>\n",
       "    </tr>\n",
       "  </tbody>\n",
       "</table>\n",
       "</div>"
      ],
      "text/plain": [
       "       CustomerID         Age  Annual Income (k$)  Spending Score (1-100)\n",
       "count  200.000000  200.000000          200.000000              200.000000\n",
       "mean   100.500000   38.850000           60.560000               50.200000\n",
       "std     57.879185   13.969007           26.264721               25.823522\n",
       "min      1.000000   18.000000           15.000000                1.000000\n",
       "25%     50.750000   28.750000           41.500000               34.750000\n",
       "50%    100.500000   36.000000           61.500000               50.000000\n",
       "75%    150.250000   49.000000           78.000000               73.000000\n",
       "max    200.000000   70.000000          137.000000               99.000000"
      ]
     },
     "execution_count": 16,
     "metadata": {},
     "output_type": "execute_result"
    }
   ],
   "source": [
    "data.describe()"
   ]
  },
  {
   "cell_type": "markdown",
   "id": "bff0c646",
   "metadata": {},
   "source": [
    "# 5. Check for Missing values and deal with them"
   ]
  },
  {
   "cell_type": "code",
   "execution_count": 17,
   "id": "caaff7a2",
   "metadata": {},
   "outputs": [
    {
     "data": {
      "text/plain": [
       "CustomerID                0\n",
       "Gender                    0\n",
       "Age                       0\n",
       "Annual Income (k$)        0\n",
       "Spending Score (1-100)    0\n",
       "dtype: int64"
      ]
     },
     "execution_count": 17,
     "metadata": {},
     "output_type": "execute_result"
    }
   ],
   "source": [
    "data.isna().sum()"
   ]
  },
  {
   "cell_type": "markdown",
   "id": "114c1c85",
   "metadata": {},
   "source": [
    "# 6. Find the outliers and replace the outliers"
   ]
  },
  {
   "cell_type": "code",
   "execution_count": 18,
   "id": "c2b9c4ac",
   "metadata": {},
   "outputs": [
    {
     "name": "stderr",
     "output_type": "stream",
     "text": [
      "C:\\ProgramData\\Anaconda3\\lib\\site-packages\\seaborn\\_decorators.py:36: FutureWarning: Pass the following variable as a keyword arg: x. From version 0.12, the only valid positional argument will be `data`, and passing other arguments without an explicit keyword will result in an error or misinterpretation.\n",
      "  warnings.warn(\n"
     ]
    },
    {
     "data": {
      "text/plain": [
       "<AxesSubplot:xlabel='Age'>"
      ]
     },
     "execution_count": 18,
     "metadata": {},
     "output_type": "execute_result"
    },
    {
     "data": {
      "image/png": "[encoded data removed]",
      "text/plain": [
       "<Figure size 432x288 with 1 Axes>"
      ]
     },
     "metadata": {
      "needs_background": "light"
     },
     "output_type": "display_data"
    }
   ],
   "source": [
    "sns.boxplot(data['Age'])"
   ]
  },
  {
   "cell_type": "code",
   "execution_count": 19,
   "id": "d415285c",
   "metadata": {},
   "outputs": [
    {
     "name": "stderr",
     "output_type": "stream",
     "text": [
      "C:\\Users\\MURALI\\AppData\\Local\\Temp\\ipykernel_20052\\531903386.py:1: FutureWarning: Dropping of nuisance columns in DataFrame reductions (with 'numeric_only=None') is deprecated; in a future version this will raise TypeError.  Select only valid columns before calling the reduction.\n",
      "  data.mean()\n"
     ]
    },
    {
     "data": {
      "text/plain": [
       "CustomerID                100.50\n",
       "Age                        38.85\n",
       "Annual Income (k$)         60.56\n",
       "Spending Score (1-100)     50.20\n",
       "dtype: float64"
      ]
     },
     "execution_count": 19,
     "metadata": {},
     "output_type": "execute_result"
    }
   ],
   "source": [
    "data.mean()"
   ]
  },
  {
   "cell_type": "code",
   "execution_count": 20,
   "id": "fedbf971",
   "metadata": {},
   "outputs": [
    {
     "name": "stderr",
     "output_type": "stream",
     "text": [
      "C:\\Users\\MURALI\\AppData\\Local\\Temp\\ipykernel_20052\\2723740006.py:1: FutureWarning: Dropping of nuisance columns in DataFrame reductions (with 'numeric_only=None') is deprecated; in a future version this will raise TypeError.  Select only valid columns before calling the reduction.\n",
      "  data.std()\n"
     ]
    },
    {
     "data": {
      "text/plain": [
       "CustomerID                57.879185\n",
       "Age                       13.969007\n",
       "Annual Income (k$)        26.264721\n",
       "Spending Score (1-100)    25.823522\n",
       "dtype: float64"
      ]
     },
     "execution_count": 20,
     "metadata": {},
     "output_type": "execute_result"
    }
   ],
   "source": [
    "data.std()"
   ]
  },
  {
   "cell_type": "code",
   "execution_count": 21,
   "id": "413322aa",
   "metadata": {},
   "outputs": [
    {
     "data": {
      "text/plain": [
       "CustomerID                49.75\n",
       "Age                       13.00\n",
       "Annual Income (k$)        16.50\n",
       "Spending Score (1-100)    23.00\n",
       "dtype: float64"
      ]
     },
     "execution_count": 21,
     "metadata": {},
     "output_type": "execute_result"
    }
   ],
   "source": [
    "q=data.quantile(q=[0.75,0.5])\n",
    "iqr=q.iloc[0]-q.iloc[1]\n",
    "iqr"
   ]
  },
  {
   "cell_type": "code",
   "execution_count": 22,
   "id": "72478dd0",
   "metadata": {},
   "outputs": [
    {
     "data": {
      "text/plain": [
       "16.5"
      ]
     },
     "execution_count": 22,
     "metadata": {},
     "output_type": "execute_result"
    }
   ],
   "source": [
    "l=q.iloc[1]-(1.5*iqr)\n",
    "l['Age']"
   ]
  },
  {
   "cell_type": "code",
   "execution_count": 23,
   "id": "5245c1f9",
   "metadata": {},
   "outputs": [
    {
     "data": {
      "text/plain": [
       "55.5"
      ]
     },
     "execution_count": 23,
     "metadata": {},
     "output_type": "execute_result"
    }
   ],
   "source": [
    "u=q.iloc[1]+(1.5*iqr)\n",
    "u['Age']"
   ]
  },
  {
   "cell_type": "code",
   "execution_count": 24,
   "id": "67ebec0e",
   "metadata": {},
   "outputs": [
    {
     "name": "stderr",
     "output_type": "stream",
     "text": [
      "C:\\ProgramData\\Anaconda3\\lib\\site-packages\\seaborn\\_decorators.py:36: FutureWarning: Pass the following variable as a keyword arg: x. From version 0.12, the only valid positional argument will be `data`, and passing other arguments without an explicit keyword will result in an error or misinterpretation.\n",
      "  warnings.warn(\n"
     ]
    },
    {
     "data": {
      "text/plain": [
       "<AxesSubplot:xlabel='Age'>"
      ]
     },
     "execution_count": 24,
     "metadata": {},
     "output_type": "execute_result"
    },
    {
     "data": {
      "image/png": "[encoded data removed]",
      "text/plain": [
       "<Figure size 432x288 with 1 Axes>"
      ]
     },
     "metadata": {
      "needs_background": "light"
     },
     "output_type": "display_data"
    }
   ],
   "source": [
    "sns.boxplot(data['Age'])"
   ]
  },
  {
   "cell_type": "code",
   "execution_count": 25,
   "id": "b6b04f29",
   "metadata": {},
   "outputs": [
    {
     "name": "stderr",
     "output_type": "stream",
     "text": [
      "C:\\ProgramData\\Anaconda3\\lib\\site-packages\\seaborn\\_decorators.py:36: FutureWarning: Pass the following variable as a keyword arg: x. From version 0.12, the only valid positional argument will be `data`, and passing other arguments without an explicit keyword will result in an error or misinterpretation.\n",
      "  warnings.warn(\n"
     ]
    },
    {
     "data": {
      "text/plain": [
       "<AxesSubplot:xlabel='Age'>"
      ]
     },
     "execution_count": 25,
     "metadata": {},
     "output_type": "execute_result"
    },
    {
     "data": {
      "image/png": "[encoded data removed]",
      "text/plain": [
       "<Figure size 432x288 with 1 Axes>"
      ]
     },
     "metadata": {
      "needs_background": "light"
     },
     "output_type": "display_data"
    }
   ],
   "source": [
    "data['Age']=np.where(data['Age']>u['Age'],u['Age'],np.where(data['Age']<l['Age'],l['Age'],data['Age']))\n",
    "sns.boxplot(data['Age'])"
   ]
  },
  {
   "cell_type": "markdown",
   "id": "c4f81a7b",
   "metadata": {},
   "source": [
    "# 7.Check for Categorical columns and perform encoding"
   ]
  },
  {
   "cell_type": "code",
   "execution_count": 26,
   "id": "833d33cf",
   "metadata": {},
   "outputs": [],
   "source": [
    "data['Gender'].replace({'Female':1,'Male':0},inplace=True)"
   ]
  },
  {
   "cell_type": "code",
   "execution_count": 27,
   "id": "bafc1593",
   "metadata": {},
   "outputs": [
    {
     "data": {
      "text/html": [
       "<div>\n",
       "<style scoped>\n",
       "    .dataframe tbody tr th:only-of-type {\n",
       "        vertical-align: middle;\n",
       "    }\n",
       "\n",
       "    .dataframe tbody tr th {\n",
       "        vertical-align: top;\n",
       "    }\n",
       "\n",
       "    .dataframe thead th {\n",
       "        text-align: right;\n",
       "    }\n",
       "</style>\n",
       "<table border=\"1\" class=\"dataframe\">\n",
       "  <thead>\n",
       "    <tr style=\"text-align: right;\">\n",
       "      <th></th>\n",
       "      <th>CustomerID</th>\n",
       "      <th>Gender</th>\n",
       "      <th>Age</th>\n",
       "      <th>Annual Income (k$)</th>\n",
       "      <th>Spending Score (1-100)</th>\n",
       "    </tr>\n",
       "  </thead>\n",
       "  <tbody>\n",
       "    <tr>\n",
       "      <th>0</th>\n",
       "      <td>1</td>\n",
       "      <td>0</td>\n",
       "      <td>19.0</td>\n",
       "      <td>15</td>\n",
       "      <td>39</td>\n",
       "    </tr>\n",
       "    <tr>\n",
       "      <th>1</th>\n",
       "      <td>2</td>\n",
       "      <td>0</td>\n",
       "      <td>21.0</td>\n",
       "      <td>15</td>\n",
       "      <td>81</td>\n",
       "    </tr>\n",
       "    <tr>\n",
       "      <th>2</th>\n",
       "      <td>3</td>\n",
       "      <td>1</td>\n",
       "      <td>20.0</td>\n",
       "      <td>16</td>\n",
       "      <td>6</td>\n",
       "    </tr>\n",
       "    <tr>\n",
       "      <th>3</th>\n",
       "      <td>4</td>\n",
       "      <td>1</td>\n",
       "      <td>23.0</td>\n",
       "      <td>16</td>\n",
       "      <td>77</td>\n",
       "    </tr>\n",
       "    <tr>\n",
       "      <th>4</th>\n",
       "      <td>5</td>\n",
       "      <td>1</td>\n",
       "      <td>31.0</td>\n",
       "      <td>17</td>\n",
       "      <td>40</td>\n",
       "    </tr>\n",
       "  </tbody>\n",
       "</table>\n",
       "</div>"
      ],
      "text/plain": [
       "   CustomerID  Gender   Age  Annual Income (k$)  Spending Score (1-100)\n",
       "0           1       0  19.0                  15                      39\n",
       "1           2       0  21.0                  15                      81\n",
       "2           3       1  20.0                  16                       6\n",
       "3           4       1  23.0                  16                      77\n",
       "4           5       1  31.0                  17                      40"
      ]
     },
     "execution_count": 27,
     "metadata": {},
     "output_type": "execute_result"
    }
   ],
   "source": [
    "data.head()"
   ]
  },
  {
   "cell_type": "markdown",
   "id": "055bd4bc",
   "metadata": {},
   "source": [
    "# 8.Spilt Data int Dependent and Independent Variables"
   ]
  },
  {
   "cell_type": "code",
   "execution_count": 28,
   "id": "93c855f9",
   "metadata": {},
   "outputs": [
    {
     "data": {
      "text/plain": [
       "0      0\n",
       "1      0\n",
       "2      1\n",
       "3      1\n",
       "4      1\n",
       "      ..\n",
       "195    1\n",
       "196    1\n",
       "197    0\n",
       "198    0\n",
       "199    0\n",
       "Name: Gender, Length: 200, dtype: int64"
      ]
     },
     "execution_count": 28,
     "metadata": {},
     "output_type": "execute_result"
    }
   ],
   "source": [
    "y=data['Gender']\n",
    "y"
   ]
  },
  {
   "cell_type": "code",
   "execution_count": 29,
   "id": "52ea62d1",
   "metadata": {},
   "outputs": [
    {
     "data": {
      "text/html": [
       "<div>\n",
       "<style scoped>\n",
       "    .dataframe tbody tr th:only-of-type {\n",
       "        vertical-align: middle;\n",
       "    }\n",
       "\n",
       "    .dataframe tbody tr th {\n",
       "        vertical-align: top;\n",
       "    }\n",
       "\n",
       "    .dataframe thead th {\n",
       "        text-align: right;\n",
       "    }\n",
       "</style>\n",
       "<table border=\"1\" class=\"dataframe\">\n",
       "  <thead>\n",
       "    <tr style=\"text-align: right;\">\n",
       "      <th></th>\n",
       "      <th>CustomerID</th>\n",
       "      <th>Age</th>\n",
       "      <th>Annual Income (k$)</th>\n",
       "      <th>Spending Score (1-100)</th>\n",
       "    </tr>\n",
       "  </thead>\n",
       "  <tbody>\n",
       "    <tr>\n",
       "      <th>0</th>\n",
       "      <td>1</td>\n",
       "      <td>19.0</td>\n",
       "      <td>15</td>\n",
       "      <td>39</td>\n",
       "    </tr>\n",
       "    <tr>\n",
       "      <th>1</th>\n",
       "      <td>2</td>\n",
       "      <td>21.0</td>\n",
       "      <td>15</td>\n",
       "      <td>81</td>\n",
       "    </tr>\n",
       "    <tr>\n",
       "      <th>2</th>\n",
       "      <td>3</td>\n",
       "      <td>20.0</td>\n",
       "      <td>16</td>\n",
       "      <td>6</td>\n",
       "    </tr>\n",
       "    <tr>\n",
       "      <th>3</th>\n",
       "      <td>4</td>\n",
       "      <td>23.0</td>\n",
       "      <td>16</td>\n",
       "      <td>77</td>\n",
       "    </tr>\n",
       "    <tr>\n",
       "      <th>4</th>\n",
       "      <td>5</td>\n",
       "      <td>31.0</td>\n",
       "      <td>17</td>\n",
       "      <td>40</td>\n",
       "    </tr>\n",
       "  </tbody>\n",
       "</table>\n",
       "</div>"
      ],
      "text/plain": [
       "   CustomerID   Age  Annual Income (k$)  Spending Score (1-100)\n",
       "0           1  19.0                  15                      39\n",
       "1           2  21.0                  15                      81\n",
       "2           3  20.0                  16                       6\n",
       "3           4  23.0                  16                      77\n",
       "4           5  31.0                  17                      40"
      ]
     },
     "execution_count": 29,
     "metadata": {},
     "output_type": "execute_result"
    }
   ],
   "source": [
    "x=data.drop(columns=['Gender'],axis=1)\n",
    "x.head()"
   ]
  },
  {
   "cell_type": "markdown",
   "id": "4049308a",
   "metadata": {},
   "source": [
    "# 9. Perform any of the clustering algorithms\n"
   ]
  },
  {
   "cell_type": "code",
   "execution_count": 48,
   "id": "125b85a9",
   "metadata": {},
   "outputs": [],
   "source": [
    "from sklearn import cluster"
   ]
  },
  {
   "cell_type": "code",
   "execution_count": 50,
   "id": "a057b9b0",
   "metadata": {},
   "outputs": [
    {
     "name": "stderr",
     "output_type": "stream",
     "text": [
      "C:\\ProgramData\\Anaconda3\\lib\\site-packages\\sklearn\\cluster\\_kmeans.py:1036: UserWarning: KMeans is known to have a memory leak on Windows with MKL, when there are less chunks than available threads. You can avoid it by setting the environment variable OMP_NUM_THREADS=1.\n",
      "  warnings.warn(\n"
     ]
    }
   ],
   "source": [
    "error =[]\n",
    "for i in range(1,11):\n",
    "    kmeans=cluster.KMeans(n_clusters=i,init='k-means++',random_state=0)\n",
    "    kmeans.fit(data)\n",
    "    error.append(kmeans.inertia_)"
   ]
  },
  {
   "cell_type": "code",
   "execution_count": 51,
   "id": "8fa233ea",
   "metadata": {},
   "outputs": [
    {
     "data": {
      "text/plain": [
       "[965435.40875,\n",
       " 377132.27362736274,\n",
       " 262117.5443412849,\n",
       " 186423.93808618377,\n",
       " 149504.61256253909,\n",
       " 114403.64248213929,\n",
       " 95074.75733137564,\n",
       " 78104.73345410629,\n",
       " 70581.20772018188,\n",
       " 64164.72585440875]"
      ]
     },
     "execution_count": 51,
     "metadata": {},
     "output_type": "execute_result"
    }
   ],
   "source": [
    "error"
   ]
  },
  {
   "cell_type": "code",
   "execution_count": 52,
   "id": "7fcb6255",
   "metadata": {},
   "outputs": [
    {
     "data": {
      "image/png": "[encoded data removed]",
      "text/plain": [
       "<Figure size 432x288 with 1 Axes>"
      ]
     },
     "metadata": {
      "needs_background": "light"
     },
     "output_type": "display_data"
    }
   ],
   "source": [
    "import matplotlib.pyplot as plt\n",
    "plt.plot(range(1,11),error)\n",
    "plt.title('Elbow method')\n",
    "plt.xlabel('no of cluster')\n",
    "plt.ylabel('error')\n",
    "plt.show()"
   ]
  },
  {
   "cell_type": "code",
   "execution_count": 53,
   "id": "2c29005a",
   "metadata": {},
   "outputs": [],
   "source": [
    "k_means_model=cluster.KMeans(n_clusters=3,init='k-means++',random_state=0)"
   ]
  },
  {
   "cell_type": "code",
   "execution_count": 55,
   "id": "3f493a88",
   "metadata": {},
   "outputs": [
    {
     "data": {
      "text/plain": [
       "KMeans(n_clusters=3, random_state=0)"
      ]
     },
     "execution_count": 55,
     "metadata": {},
     "output_type": "execute_result"
    }
   ],
   "source": [
    "k_means_model.fit(data)"
   ]
  },
  {
   "cell_type": "code",
   "execution_count": 56,
   "id": "c72a933b",
   "metadata": {},
   "outputs": [],
   "source": [
    "clustered_data =k_means_model.predict(data)"
   ]
  },
  {
   "cell_type": "markdown",
   "id": "fb792871",
   "metadata": {},
   "source": [
    "# 10. Add the cluster data with the primary dataset"
   ]
  },
  {
   "cell_type": "code",
   "execution_count": 63,
   "id": "793df4d8",
   "metadata": {},
   "outputs": [],
   "source": [
    "data['Clustered_data'] = pd.Series(clustered_data)\n"
   ]
  },
  {
   "cell_type": "code",
   "execution_count": 64,
   "id": "7103028b",
   "metadata": {},
   "outputs": [
    {
     "data": {
      "text/html": [
       "<div>\n",
       "<style scoped>\n",
       "    .dataframe tbody tr th:only-of-type {\n",
       "        vertical-align: middle;\n",
       "    }\n",
       "\n",
       "    .dataframe tbody tr th {\n",
       "        vertical-align: top;\n",
       "    }\n",
       "\n",
       "    .dataframe thead th {\n",
       "        text-align: right;\n",
       "    }\n",
       "</style>\n",
       "<table border=\"1\" class=\"dataframe\">\n",
       "  <thead>\n",
       "    <tr style=\"text-align: right;\">\n",
       "      <th></th>\n",
       "      <th>CustomerID</th>\n",
       "      <th>Gender</th>\n",
       "      <th>Age</th>\n",
       "      <th>Annual Income (k$)</th>\n",
       "      <th>Spending Score (1-100)</th>\n",
       "      <th>Clustered_data</th>\n",
       "    </tr>\n",
       "  </thead>\n",
       "  <tbody>\n",
       "    <tr>\n",
       "      <th>0</th>\n",
       "      <td>1</td>\n",
       "      <td>0</td>\n",
       "      <td>19.0</td>\n",
       "      <td>15</td>\n",
       "      <td>39</td>\n",
       "      <td>2</td>\n",
       "    </tr>\n",
       "    <tr>\n",
       "      <th>1</th>\n",
       "      <td>2</td>\n",
       "      <td>0</td>\n",
       "      <td>21.0</td>\n",
       "      <td>15</td>\n",
       "      <td>81</td>\n",
       "      <td>2</td>\n",
       "    </tr>\n",
       "    <tr>\n",
       "      <th>2</th>\n",
       "      <td>3</td>\n",
       "      <td>1</td>\n",
       "      <td>20.0</td>\n",
       "      <td>16</td>\n",
       "      <td>6</td>\n",
       "      <td>2</td>\n",
       "    </tr>\n",
       "    <tr>\n",
       "      <th>3</th>\n",
       "      <td>4</td>\n",
       "      <td>1</td>\n",
       "      <td>23.0</td>\n",
       "      <td>16</td>\n",
       "      <td>77</td>\n",
       "      <td>2</td>\n",
       "    </tr>\n",
       "    <tr>\n",
       "      <th>4</th>\n",
       "      <td>5</td>\n",
       "      <td>1</td>\n",
       "      <td>31.0</td>\n",
       "      <td>17</td>\n",
       "      <td>40</td>\n",
       "      <td>2</td>\n",
       "    </tr>\n",
       "  </tbody>\n",
       "</table>\n",
       "</div>"
      ],
      "text/plain": [
       "   CustomerID  Gender   Age  Annual Income (k$)  Spending Score (1-100)  \\\n",
       "0           1       0  19.0                  15                      39   \n",
       "1           2       0  21.0                  15                      81   \n",
       "2           3       1  20.0                  16                       6   \n",
       "3           4       1  23.0                  16                      77   \n",
       "4           5       1  31.0                  17                      40   \n",
       "\n",
       "   Clustered_data  \n",
       "0               2  \n",
       "1               2  \n",
       "2               2  \n",
       "3               2  \n",
       "4               2  "
      ]
     },
     "execution_count": 64,
     "metadata": {},
     "output_type": "execute_result"
    }
   ],
   "source": [
    "data.head()"
   ]
  },
  {
   "cell_type": "code",
   "execution_count": 65,
   "id": "21982dee",
   "metadata": {},
   "outputs": [
    {
     "data": {
      "text/html": [
       "<div>\n",
       "<style scoped>\n",
       "    .dataframe tbody tr th:only-of-type {\n",
       "        vertical-align: middle;\n",
       "    }\n",
       "\n",
       "    .dataframe tbody tr th {\n",
       "        vertical-align: top;\n",
       "    }\n",
       "\n",
       "    .dataframe thead th {\n",
       "        text-align: right;\n",
       "    }\n",
       "</style>\n",
       "<table border=\"1\" class=\"dataframe\">\n",
       "  <thead>\n",
       "    <tr style=\"text-align: right;\">\n",
       "      <th></th>\n",
       "      <th>CustomerID</th>\n",
       "      <th>Gender</th>\n",
       "      <th>Age</th>\n",
       "      <th>Annual Income (k$)</th>\n",
       "      <th>Spending Score (1-100)</th>\n",
       "      <th>Clustered_data</th>\n",
       "    </tr>\n",
       "  </thead>\n",
       "  <tbody>\n",
       "    <tr>\n",
       "      <th>195</th>\n",
       "      <td>196</td>\n",
       "      <td>1</td>\n",
       "      <td>35.0</td>\n",
       "      <td>120</td>\n",
       "      <td>79</td>\n",
       "      <td>0</td>\n",
       "    </tr>\n",
       "    <tr>\n",
       "      <th>196</th>\n",
       "      <td>197</td>\n",
       "      <td>1</td>\n",
       "      <td>45.0</td>\n",
       "      <td>126</td>\n",
       "      <td>28</td>\n",
       "      <td>0</td>\n",
       "    </tr>\n",
       "    <tr>\n",
       "      <th>197</th>\n",
       "      <td>198</td>\n",
       "      <td>0</td>\n",
       "      <td>32.0</td>\n",
       "      <td>126</td>\n",
       "      <td>74</td>\n",
       "      <td>0</td>\n",
       "    </tr>\n",
       "    <tr>\n",
       "      <th>198</th>\n",
       "      <td>199</td>\n",
       "      <td>0</td>\n",
       "      <td>32.0</td>\n",
       "      <td>137</td>\n",
       "      <td>18</td>\n",
       "      <td>0</td>\n",
       "    </tr>\n",
       "    <tr>\n",
       "      <th>199</th>\n",
       "      <td>200</td>\n",
       "      <td>0</td>\n",
       "      <td>30.0</td>\n",
       "      <td>137</td>\n",
       "      <td>83</td>\n",
       "      <td>0</td>\n",
       "    </tr>\n",
       "  </tbody>\n",
       "</table>\n",
       "</div>"
      ],
      "text/plain": [
       "     CustomerID  Gender   Age  Annual Income (k$)  Spending Score (1-100)  \\\n",
       "195         196       1  35.0                 120                      79   \n",
       "196         197       1  45.0                 126                      28   \n",
       "197         198       0  32.0                 126                      74   \n",
       "198         199       0  32.0                 137                      18   \n",
       "199         200       0  30.0                 137                      83   \n",
       "\n",
       "     Clustered_data  \n",
       "195               0  \n",
       "196               0  \n",
       "197               0  \n",
       "198               0  \n",
       "199               0  "
      ]
     },
     "execution_count": 65,
     "metadata": {},
     "output_type": "execute_result"
    }
   ],
   "source": [
    "data.tail()"
   ]
  },
  {
   "cell_type": "markdown",
   "id": "62f2cb05",
   "metadata": {},
   "source": [
    "# Split the data into dependent and independent variables"
   ]
  },
  {
   "cell_type": "code",
   "execution_count": 66,
   "id": "4c5398fb",
   "metadata": {},
   "outputs": [
    {
     "data": {
      "text/plain": [
       "0      2\n",
       "1      2\n",
       "2      2\n",
       "3      2\n",
       "4      2\n",
       "      ..\n",
       "195    0\n",
       "196    0\n",
       "197    0\n",
       "198    0\n",
       "199    0\n",
       "Name: Clustered_data, Length: 200, dtype: int32"
      ]
     },
     "execution_count": 66,
     "metadata": {},
     "output_type": "execute_result"
    }
   ],
   "source": [
    "y=data['Clustered_data']\n",
    "y  "
   ]
  },
  {
   "cell_type": "code",
   "execution_count": 67,
   "id": "b4f642ad",
   "metadata": {},
   "outputs": [
    {
     "data": {
      "text/html": [
       "<div>\n",
       "<style scoped>\n",
       "    .dataframe tbody tr th:only-of-type {\n",
       "        vertical-align: middle;\n",
       "    }\n",
       "\n",
       "    .dataframe tbody tr th {\n",
       "        vertical-align: top;\n",
       "    }\n",
       "\n",
       "    .dataframe thead th {\n",
       "        text-align: right;\n",
       "    }\n",
       "</style>\n",
       "<table border=\"1\" class=\"dataframe\">\n",
       "  <thead>\n",
       "    <tr style=\"text-align: right;\">\n",
       "      <th></th>\n",
       "      <th>CustomerID</th>\n",
       "      <th>Gender</th>\n",
       "      <th>Age</th>\n",
       "      <th>Annual Income (k$)</th>\n",
       "      <th>Spending Score (1-100)</th>\n",
       "    </tr>\n",
       "  </thead>\n",
       "  <tbody>\n",
       "    <tr>\n",
       "      <th>0</th>\n",
       "      <td>1</td>\n",
       "      <td>0</td>\n",
       "      <td>19.0</td>\n",
       "      <td>15</td>\n",
       "      <td>39</td>\n",
       "    </tr>\n",
       "    <tr>\n",
       "      <th>1</th>\n",
       "      <td>2</td>\n",
       "      <td>0</td>\n",
       "      <td>21.0</td>\n",
       "      <td>15</td>\n",
       "      <td>81</td>\n",
       "    </tr>\n",
       "    <tr>\n",
       "      <th>2</th>\n",
       "      <td>3</td>\n",
       "      <td>1</td>\n",
       "      <td>20.0</td>\n",
       "      <td>16</td>\n",
       "      <td>6</td>\n",
       "    </tr>\n",
       "    <tr>\n",
       "      <th>3</th>\n",
       "      <td>4</td>\n",
       "      <td>1</td>\n",
       "      <td>23.0</td>\n",
       "      <td>16</td>\n",
       "      <td>77</td>\n",
       "    </tr>\n",
       "    <tr>\n",
       "      <th>4</th>\n",
       "      <td>5</td>\n",
       "      <td>1</td>\n",
       "      <td>31.0</td>\n",
       "      <td>17</td>\n",
       "      <td>40</td>\n",
       "    </tr>\n",
       "  </tbody>\n",
       "</table>\n",
       "</div>"
      ],
      "text/plain": [
       "   CustomerID  Gender   Age  Annual Income (k$)  Spending Score (1-100)\n",
       "0           1       0  19.0                  15                      39\n",
       "1           2       0  21.0                  15                      81\n",
       "2           3       1  20.0                  16                       6\n",
       "3           4       1  23.0                  16                      77\n",
       "4           5       1  31.0                  17                      40"
      ]
     },
     "execution_count": 67,
     "metadata": {},
     "output_type": "execute_result"
    }
   ],
   "source": [
    "X=data.drop(columns=['Clustered_data'],axis=1)\n",
    "X.head() "
   ]
  },
  {
   "cell_type": "markdown",
   "id": "65629ee8",
   "metadata": {},
   "source": [
    "# 11. Scalling"
   ]
  },
  {
   "cell_type": "code",
   "execution_count": 68,
   "id": "f20b45f3",
   "metadata": {},
   "outputs": [
    {
     "data": {
      "text/plain": [
       "Index(['CustomerID', 'Age', 'Annual Income (k$)', 'Spending Score (1-100)'], dtype='object')"
      ]
     },
     "execution_count": 68,
     "metadata": {},
     "output_type": "execute_result"
    }
   ],
   "source": [
    "names=x.columns\n",
    "names"
   ]
  },
  {
   "cell_type": "code",
   "execution_count": 69,
   "id": "86c4ce92",
   "metadata": {},
   "outputs": [],
   "source": [
    "from sklearn.preprocessing import scale"
   ]
  },
  {
   "cell_type": "code",
   "execution_count": 70,
   "id": "16fc92ef",
   "metadata": {},
   "outputs": [],
   "source": [
    "x = scale(x)"
   ]
  },
  {
   "cell_type": "code",
   "execution_count": 71,
   "id": "cefde9ce",
   "metadata": {},
   "outputs": [
    {
     "data": {
      "text/plain": [
       "array([[-1.7234121 , -1.56143278, -1.73899919, -0.43480148],\n",
       "       [-1.70609137, -1.39463532, -1.73899919,  1.19570407],\n",
       "       [-1.68877065, -1.47803405, -1.70082976, -1.71591298],\n",
       "       [-1.67144992, -1.22783785, -1.70082976,  1.04041783],\n",
       "       [-1.6541292 , -0.56064798, -1.66266033, -0.39597992],\n",
       "       [-1.63680847, -1.31123658, -1.66266033,  1.00159627],\n",
       "       [-1.61948775, -0.22705305, -1.62449091, -1.71591298],\n",
       "       [-1.60216702, -1.22783785, -1.62449091,  1.70038436],\n",
       "       [-1.5848463 ,  1.48262098, -1.58632148, -1.83237767],\n",
       "       [-1.56752558, -0.64404672, -1.58632148,  0.84631002],\n",
       "       [-1.55020485,  1.48262098, -1.58632148, -1.4053405 ],\n",
       "       [-1.53288413, -0.22705305, -1.58632148,  1.89449216],\n",
       "       [-1.5155634 ,  1.48262098, -1.54815205, -1.36651894],\n",
       "       [-1.49824268, -1.14443912, -1.54815205,  1.04041783],\n",
       "       [-1.48092195, -0.06025558, -1.54815205, -1.44416206],\n",
       "       [-1.46360123, -1.31123658, -1.54815205,  1.11806095],\n",
       "       [-1.4462805 , -0.22705305, -1.50998262, -0.59008772],\n",
       "       [-1.42895978, -1.47803405, -1.50998262,  0.61338066],\n",
       "       [-1.41163905,  1.19072541, -1.43364376, -0.82301709],\n",
       "       [-1.39431833, -0.22705305, -1.43364376,  1.8556706 ],\n",
       "       [-1.3769976 , -0.22705305, -1.39547433, -0.59008772],\n",
       "       [-1.35967688, -1.06104038, -1.39547433,  0.88513158],\n",
       "       [-1.34235616,  0.69033301, -1.3573049 , -1.75473454],\n",
       "       [-1.32503543, -0.56064798, -1.3573049 ,  0.88513158],\n",
       "       [-1.30771471,  1.35752288, -1.24279661, -1.4053405 ],\n",
       "       [-1.29039398, -0.72744545, -1.24279661,  1.23452563],\n",
       "       [-1.27307326,  0.60693428, -1.24279661, -0.7065524 ],\n",
       "       [-1.25575253, -0.22705305, -1.24279661,  0.41927286],\n",
       "       [-1.23843181,  0.18994061, -1.20462718, -0.74537397],\n",
       "       [-1.22111108, -1.22783785, -1.20462718,  1.42863343],\n",
       "       [-1.20379036,  1.48262098, -1.16645776, -1.7935561 ],\n",
       "       [-1.18646963, -1.39463532, -1.16645776,  0.88513158],\n",
       "       [-1.16914891,  1.27412415, -1.05194947, -1.7935561 ],\n",
       "       [-1.15182818, -1.64483152, -1.05194947,  1.62274124],\n",
       "       [-1.13450746,  0.94052921, -1.05194947, -1.4053405 ],\n",
       "       [-1.11718674, -1.39463532, -1.05194947,  1.19570407],\n",
       "       [-1.09986601,  0.35673808, -1.01378004, -1.28887582],\n",
       "       [-1.08254529, -0.64404672, -1.01378004,  0.88513158],\n",
       "       [-1.06522456, -0.14365432, -0.89927175, -0.93948177],\n",
       "       [-1.04790384, -1.47803405, -0.89927175,  0.96277471],\n",
       "       [-1.03058311,  1.48262098, -0.86110232, -0.59008772],\n",
       "       [-1.01326239, -1.14443912, -0.86110232,  1.62274124],\n",
       "       [-0.99594166,  0.85713048, -0.82293289, -0.55126616],\n",
       "       [-0.97862094, -0.56064798, -0.82293289,  0.41927286],\n",
       "       [-0.96130021,  0.94052921, -0.82293289, -0.86183865],\n",
       "       [-0.94397949, -1.14443912, -0.82293289,  0.5745591 ],\n",
       "       [-0.92665877,  1.02392795, -0.78476346,  0.18634349],\n",
       "       [-0.90933804, -0.89424292, -0.78476346, -0.12422899],\n",
       "       [-0.89201732, -0.72744545, -0.78476346, -0.3183368 ],\n",
       "       [-0.87469659, -0.56064798, -0.78476346, -0.3183368 ],\n",
       "       [-0.85737587,  0.94052921, -0.70842461,  0.06987881],\n",
       "       [-0.84005514, -0.39385052, -0.70842461,  0.38045129],\n",
       "       [-0.82273442, -0.56064798, -0.67025518,  0.14752193],\n",
       "       [-0.80541369,  1.48262098, -0.67025518,  0.38045129],\n",
       "       [-0.78809297,  1.02392795, -0.67025518, -0.20187212],\n",
       "       [-0.77077224,  0.77373175, -0.67025518, -0.35715836],\n",
       "       [-0.75345152,  1.10732668, -0.63208575, -0.00776431],\n",
       "       [-0.73613079,  1.48262098, -0.63208575, -0.16305055],\n",
       "       [-0.71881007, -0.89424292, -0.55574689,  0.03105725],\n",
       "       [-0.70148935,  1.27412415, -0.55574689, -0.16305055],\n",
       "       [-0.68416862,  1.48262098, -0.55574689,  0.22516505],\n",
       "       [-0.6668479 , -1.56143278, -0.55574689,  0.18634349],\n",
       "       [-0.64952717,  1.48262098, -0.51757746,  0.06987881],\n",
       "       [-0.63220645,  1.35752288, -0.51757746,  0.34162973],\n",
       "       [-0.61488572,  1.48262098, -0.47940803,  0.03105725],\n",
       "       [-0.597565  , -1.64483152, -0.47940803,  0.34162973],\n",
       "       [-0.58024427,  0.44013681, -0.47940803, -0.00776431],\n",
       "       [-0.56292355,  1.48262098, -0.47940803, -0.08540743],\n",
       "       [-0.54560282, -1.56143278, -0.47940803,  0.34162973],\n",
       "       [-0.5282821 , -0.47724925, -0.47940803, -0.12422899],\n",
       "       [-0.51096138,  1.48262098, -0.4412386 ,  0.18634349],\n",
       "       [-0.49364065,  0.77373175, -0.4412386 , -0.3183368 ],\n",
       "       [-0.47631993,  1.48262098, -0.40306917, -0.04658587],\n",
       "       [-0.4589992 ,  1.48262098, -0.40306917,  0.22516505],\n",
       "       [-0.44167848,  1.48262098, -0.25039146, -0.12422899],\n",
       "       [-0.42435775, -0.97764165, -0.25039146,  0.14752193],\n",
       "       [-0.40703703,  0.60693428, -0.25039146,  0.10870037],\n",
       "       [-0.3897163 ,  0.18994061, -0.25039146, -0.08540743],\n",
       "       [-0.37239558, -1.22783785, -0.25039146,  0.06987881],\n",
       "       [-0.35507485,  0.94052921, -0.25039146, -0.3183368 ],\n",
       "       [-0.33775413,  1.48262098, -0.25039146,  0.03105725],\n",
       "       [-0.3204334 ,  0.02314315, -0.25039146,  0.18634349],\n",
       "       [-0.30311268,  1.48262098, -0.25039146, -0.35715836],\n",
       "       [-0.28579196,  0.69033301, -0.25039146, -0.24069368],\n",
       "       [-0.26847123, -1.39463532, -0.25039146,  0.26398661],\n",
       "       [-0.25115051,  0.85713048, -0.25039146, -0.16305055],\n",
       "       [-0.23382978,  1.44092161, -0.13588317,  0.30280817],\n",
       "       [-0.21650906, -1.31123658, -0.13588317,  0.18634349],\n",
       "       [-0.19918833, -0.31045178, -0.09771374,  0.38045129],\n",
       "       [-0.18186761,  1.02392795, -0.09771374, -0.16305055],\n",
       "       [-0.16454688,  1.48262098, -0.05954431,  0.18634349],\n",
       "       [-0.14722616, -1.64483152, -0.05954431, -0.35715836],\n",
       "       [-0.12990543,  0.85713048, -0.02137488, -0.04658587],\n",
       "       [-0.11258471,  0.18994061, -0.02137488, -0.39597992],\n",
       "       [-0.09526399, -0.47724925, -0.02137488, -0.3183368 ],\n",
       "       [-0.07794326, -1.14443912, -0.02137488,  0.06987881],\n",
       "       [-0.06062254,  0.77373175, -0.02137488, -0.12422899],\n",
       "       [-0.04330181, -0.89424292, -0.02137488, -0.00776431],\n",
       "       [-0.02598109,  0.85713048,  0.01679455, -0.3183368 ],\n",
       "       [-0.00866036, -1.47803405,  0.01679455, -0.04658587],\n",
       "       [ 0.00866036, -1.22783785,  0.05496398, -0.35715836],\n",
       "       [ 0.02598109,  0.94052921,  0.05496398, -0.08540743],\n",
       "       [ 0.04330181,  1.48262098,  0.05496398,  0.34162973],\n",
       "       [ 0.06062254, -0.97764165,  0.05496398,  0.18634349],\n",
       "       [ 0.07794326,  0.94052921,  0.05496398,  0.22516505],\n",
       "       [ 0.09526399, -1.39463532,  0.05496398, -0.3183368 ],\n",
       "       [ 0.11258471,  1.48262098,  0.09313341, -0.00776431],\n",
       "       [ 0.12990543,  1.35752288,  0.09313341, -0.16305055],\n",
       "       [ 0.14722616,  1.48262098,  0.09313341, -0.27951524],\n",
       "       [ 0.16454688,  1.48262098,  0.09313341, -0.08540743],\n",
       "       [ 0.18186761,  1.48262098,  0.09313341,  0.06987881],\n",
       "       [ 0.19918833, -1.56143278,  0.09313341,  0.14752193],\n",
       "       [ 0.21650906,  0.02314315,  0.13130284, -0.3183368 ],\n",
       "       [ 0.23382978, -1.56143278,  0.13130284, -0.16305055],\n",
       "       [ 0.25115051, -1.64483152,  0.16947227, -0.08540743],\n",
       "       [ 0.26847123, -1.56143278,  0.16947227, -0.00776431],\n",
       "       [ 0.28579196,  1.48262098,  0.16947227, -0.27951524],\n",
       "       [ 0.30311268,  0.94052921,  0.16947227,  0.34162973],\n",
       "       [ 0.3204334 ,  1.10732668,  0.24581112, -0.27951524],\n",
       "       [ 0.33775413,  1.02392795,  0.24581112,  0.26398661],\n",
       "       [ 0.35507485, -0.89424292,  0.24581112,  0.22516505],\n",
       "       [ 0.37239558,  0.02314315,  0.24581112, -0.39597992],\n",
       "       [ 0.3897163 ,  0.18994061,  0.32214998,  0.30280817],\n",
       "       [ 0.40703703,  0.10654188,  0.32214998,  1.58391968],\n",
       "       [ 0.42435775, -1.22783785,  0.36031941, -0.82301709],\n",
       "       [ 0.44167848, -0.56064798,  0.36031941,  1.04041783],\n",
       "       [ 0.4589992 ,  0.44013681,  0.39848884, -0.59008772],\n",
       "       [ 0.47631993,  0.18994061,  0.39848884,  1.73920592],\n",
       "       [ 0.49364065,  1.48262098,  0.39848884, -1.52180518],\n",
       "       [ 0.51096138,  0.02314315,  0.39848884,  0.96277471],\n",
       "       [ 0.5282821 ,  0.77373175,  0.39848884, -1.5994483 ],\n",
       "       [ 0.54560282,  0.10654188,  0.39848884,  0.96277471],\n",
       "       [ 0.56292355, -1.06104038,  0.43665827, -0.62890928],\n",
       "       [ 0.58024427, -0.56064798,  0.43665827,  0.80748846],\n",
       "       [ 0.597565  , -1.47803405,  0.4748277 , -1.75473454],\n",
       "       [ 0.61488572, -0.72744545,  0.4748277 ,  1.46745499],\n",
       "       [ 0.63220645,  0.52353555,  0.4748277 , -1.67709142],\n",
       "       [ 0.64952717, -0.47724925,  0.4748277 ,  0.88513158],\n",
       "       [ 0.6668479 , -1.56143278,  0.51299713, -1.56062674],\n",
       "       [ 0.68416862, -0.22705305,  0.51299713,  0.84631002],\n",
       "       [ 0.70148935,  1.48262098,  0.55116656, -1.75473454],\n",
       "       [ 0.71881007, -0.47724925,  0.55116656,  1.6615628 ],\n",
       "       [ 0.73613079, -0.81084418,  0.58933599, -0.39597992],\n",
       "       [ 0.75345152, -0.47724925,  0.58933599,  1.42863343],\n",
       "       [ 0.77077224, -1.06104038,  0.62750542, -1.48298362],\n",
       "       [ 0.78809297, -0.81084418,  0.62750542,  1.81684904],\n",
       "       [ 0.80541369,  0.85713048,  0.62750542, -0.55126616],\n",
       "       [ 0.82273442, -0.47724925,  0.62750542,  0.92395314],\n",
       "       [ 0.84005514, -0.31045178,  0.66567484, -1.09476801],\n",
       "       [ 0.85737587, -0.31045178,  0.66567484,  1.54509812],\n",
       "       [ 0.87469659,  0.44013681,  0.66567484, -1.28887582],\n",
       "       [ 0.89201732,  0.10654188,  0.66567484,  1.46745499],\n",
       "       [ 0.90933804,  0.52353555,  0.66567484, -1.17241113],\n",
       "       [ 0.92665877,  0.02314315,  0.66567484,  1.00159627],\n",
       "       [ 0.94397949,  0.77373175,  0.66567484, -1.32769738],\n",
       "       [ 0.96130021, -0.89424292,  0.66567484,  1.50627656],\n",
       "       [ 0.97862094, -0.06025558,  0.66567484, -1.91002079],\n",
       "       [ 0.99594166, -0.64404672,  0.66567484,  1.07923939],\n",
       "       [ 1.01326239, -0.31045178,  0.66567484, -1.91002079],\n",
       "       [ 1.03058311, -0.64404672,  0.66567484,  0.88513158],\n",
       "       [ 1.04790384,  1.48262098,  0.70384427, -0.59008772],\n",
       "       [ 1.06522456, -0.72744545,  0.70384427,  1.27334719],\n",
       "       [ 1.08254529, -1.56143278,  0.78018313, -1.75473454],\n",
       "       [ 1.09986601, -0.56064798,  0.78018313,  1.6615628 ],\n",
       "       [ 1.11718674,  1.02392795,  0.93286085, -0.93948177],\n",
       "       [ 1.13450746, -0.14365432,  0.93286085,  0.96277471],\n",
       "       [ 1.15182818,  0.35673808,  0.97103028, -1.17241113],\n",
       "       [ 1.16914891, -0.39385052,  0.97103028,  1.73920592],\n",
       "       [ 1.18646963, -0.14365432,  1.00919971, -0.90066021],\n",
       "       [ 1.20379036, -0.47724925,  1.00919971,  0.49691598],\n",
       "       [ 1.22111108,  0.18994061,  1.00919971, -1.44416206],\n",
       "       [ 1.23843181, -0.81084418,  1.00919971,  0.96277471],\n",
       "       [ 1.25575253, -0.14365432,  1.00919971, -1.56062674],\n",
       "       [ 1.27307326, -0.14365432,  1.00919971,  1.62274124],\n",
       "       [ 1.29039398,  1.19072541,  1.04736914, -1.44416206],\n",
       "       [ 1.30771471, -0.64404672,  1.04736914,  1.38981187],\n",
       "       [ 1.32503543,  1.48262098,  1.04736914, -1.36651894],\n",
       "       [ 1.34235616, -0.89424292,  1.04736914,  0.72984534],\n",
       "       [ 1.35967688,  1.48262098,  1.23821628, -1.4053405 ],\n",
       "       [ 1.3769976 , -0.22705305,  1.23821628,  1.54509812],\n",
       "       [ 1.39431833, -0.06025558,  1.390894  , -0.7065524 ],\n",
       "       [ 1.41163905, -0.47724925,  1.390894  ,  1.38981187],\n",
       "       [ 1.42895978,  0.69033301,  1.42906343, -1.36651894],\n",
       "       [ 1.4462805 , -0.72744545,  1.42906343,  1.46745499],\n",
       "       [ 1.46360123,  0.27333935,  1.46723286, -0.43480148],\n",
       "       [ 1.48092195, -0.64404672,  1.46723286,  1.81684904],\n",
       "       [ 1.49824268,  1.35752288,  1.54357172, -1.01712489],\n",
       "       [ 1.5155634 , -0.81084418,  1.54357172,  0.69102378],\n",
       "       [ 1.53288413,  0.27333935,  1.61991057, -1.28887582],\n",
       "       [ 1.55020485, -0.14365432,  1.61991057,  1.35099031],\n",
       "       [ 1.56752558, -0.31045178,  1.61991057, -1.05594645],\n",
       "       [ 1.5848463 , -0.47724925,  1.61991057,  0.72984534],\n",
       "       [ 1.60216702, -0.39385052,  2.00160487, -1.63826986],\n",
       "       [ 1.61948775,  0.02314315,  2.00160487,  1.58391968],\n",
       "       [ 1.63680847,  0.77373175,  2.26879087, -1.32769738],\n",
       "       [ 1.6541292 , -0.22705305,  2.26879087,  1.11806095],\n",
       "       [ 1.67144992,  0.60693428,  2.49780745, -0.86183865],\n",
       "       [ 1.68877065, -0.47724925,  2.49780745,  0.92395314],\n",
       "       [ 1.70609137, -0.47724925,  2.91767117, -1.25005425],\n",
       "       [ 1.7234121 , -0.64404672,  2.91767117,  1.27334719]])"
      ]
     },
     "execution_count": 71,
     "metadata": {},
     "output_type": "execute_result"
    }
   ],
   "source": [
    "x"
   ]
  },
  {
   "cell_type": "markdown",
   "id": "e9f12f19",
   "metadata": {},
   "source": [
    "# 12.Split the data into Training and Testing"
   ]
  },
  {
   "cell_type": "code",
   "execution_count": 72,
   "id": "5d22735e",
   "metadata": {},
   "outputs": [],
   "source": [
    "from sklearn.model_selection import train_test_split\n",
    "x_train,x_test,y_train,y_test=train_test_split(x,y,test_size=0.2)"
   ]
  },
  {
   "cell_type": "code",
   "execution_count": 73,
   "id": "dd409ba1",
   "metadata": {},
   "outputs": [
    {
     "data": {
      "text/plain": [
       "(160, 4)"
      ]
     },
     "execution_count": 73,
     "metadata": {},
     "output_type": "execute_result"
    }
   ],
   "source": [
    "x_train.shape"
   ]
  },
  {
   "cell_type": "code",
   "execution_count": 74,
   "id": "6c8cad7c",
   "metadata": {},
   "outputs": [
    {
     "data": {
      "text/plain": [
       "(40, 4)"
      ]
     },
     "execution_count": 74,
     "metadata": {},
     "output_type": "execute_result"
    }
   ],
   "source": [
    "x_test.shape"
   ]
  },
  {
   "cell_type": "code",
   "execution_count": 75,
   "id": "3fc4bbcb",
   "metadata": {},
   "outputs": [
    {
     "data": {
      "text/plain": [
       "(160,)"
      ]
     },
     "execution_count": 75,
     "metadata": {},
     "output_type": "execute_result"
    }
   ],
   "source": [
    "y_train.shape"
   ]
  },
  {
   "cell_type": "code",
   "execution_count": 76,
   "id": "6ab6bf5e",
   "metadata": {},
   "outputs": [
    {
     "data": {
      "text/plain": [
       "(40,)"
      ]
     },
     "execution_count": 76,
     "metadata": {},
     "output_type": "execute_result"
    }
   ],
   "source": [
    "y_test.shape"
   ]
  },
  {
   "cell_type": "code",
   "execution_count": 77,
   "id": "5cb6019e",
   "metadata": {},
   "outputs": [
    {
     "name": "stdout",
     "output_type": "stream",
     "text": [
      "(160, 4) (40, 4)\n"
     ]
    }
   ],
   "source": [
    "print(x_train.shape,x_test.shape)"
   ]
  },
  {
   "cell_type": "markdown",
   "id": "1ab64fdc",
   "metadata": {},
   "source": [
    "# 13. Build the Model\n"
   ]
  },
  {
   "cell_type": "code",
   "execution_count": 78,
   "id": "bfb2e9a4",
   "metadata": {},
   "outputs": [
    {
     "data": {
      "text/plain": [
       "RandomForestClassifier(criterion='entropy', n_estimators=10)"
      ]
     },
     "execution_count": 78,
     "metadata": {},
     "output_type": "execute_result"
    }
   ],
   "source": [
    "from sklearn.ensemble import RandomForestClassifier\n",
    "model = RandomForestClassifier(n_estimators=10,criterion='entropy')\n",
    "model.fit(x_train,y_train)"
   ]
  },
  {
   "cell_type": "code",
   "execution_count": 79,
   "id": "c8897b93",
   "metadata": {},
   "outputs": [],
   "source": [
    "y_predict = model.predict(x_test)\n"
   ]
  },
  {
   "cell_type": "code",
   "execution_count": 80,
   "id": "acdb4010",
   "metadata": {},
   "outputs": [],
   "source": [
    "y_predict_train = model.predict(x_train)\n"
   ]
  },
  {
   "cell_type": "markdown",
   "id": "2c6cb6f0",
   "metadata": {},
   "source": [
    "# 14. Train the Model"
   ]
  },
  {
   "cell_type": "code",
   "execution_count": 81,
   "id": "3ddc9018",
   "metadata": {},
   "outputs": [
    {
     "name": "stdout",
     "output_type": "stream",
     "text": [
      "Training accuracy:  1.0\n"
     ]
    }
   ],
   "source": [
    "from sklearn.metrics import accuracy_score,confusion_matrix,classification_report\n",
    "print('Training accuracy: ',accuracy_score(y_train,y_predict_train))"
   ]
  },
  {
   "cell_type": "markdown",
   "id": "6cd3c213",
   "metadata": {},
   "source": [
    "# 15. Test the Model"
   ]
  },
  {
   "cell_type": "code",
   "execution_count": 82,
   "id": "8acb7b58",
   "metadata": {},
   "outputs": [
    {
     "name": "stdout",
     "output_type": "stream",
     "text": [
      "Testing accuracy:  1.0\n"
     ]
    }
   ],
   "source": [
    "print('Testing accuracy: ',accuracy_score(y_test,y_predict))\n"
   ]
  },
  {
   "cell_type": "markdown",
   "id": "2cb6a0cc",
   "metadata": {},
   "source": [
    "# 16. Measure the performance using Metrics\n"
   ]
  },
  {
   "cell_type": "code",
   "execution_count": 83,
   "id": "5ba18885",
   "metadata": {},
   "outputs": [
    {
     "data": {
      "text/html": [
       "<div>\n",
       "<style scoped>\n",
       "    .dataframe tbody tr th:only-of-type {\n",
       "        vertical-align: middle;\n",
       "    }\n",
       "\n",
       "    .dataframe tbody tr th {\n",
       "        vertical-align: top;\n",
       "    }\n",
       "\n",
       "    .dataframe thead th {\n",
       "        text-align: right;\n",
       "    }\n",
       "</style>\n",
       "<table border=\"1\" class=\"dataframe\">\n",
       "  <thead>\n",
       "    <tr style=\"text-align: right;\">\n",
       "      <th>col_0</th>\n",
       "      <th>0</th>\n",
       "      <th>1</th>\n",
       "      <th>2</th>\n",
       "    </tr>\n",
       "    <tr>\n",
       "      <th>Clustered_data</th>\n",
       "      <th></th>\n",
       "      <th></th>\n",
       "      <th></th>\n",
       "    </tr>\n",
       "  </thead>\n",
       "  <tbody>\n",
       "    <tr>\n",
       "      <th>0</th>\n",
       "      <td>13</td>\n",
       "      <td>0</td>\n",
       "      <td>0</td>\n",
       "    </tr>\n",
       "    <tr>\n",
       "      <th>1</th>\n",
       "      <td>0</td>\n",
       "      <td>10</td>\n",
       "      <td>0</td>\n",
       "    </tr>\n",
       "    <tr>\n",
       "      <th>2</th>\n",
       "      <td>0</td>\n",
       "      <td>0</td>\n",
       "      <td>17</td>\n",
       "    </tr>\n",
       "  </tbody>\n",
       "</table>\n",
       "</div>"
      ],
      "text/plain": [
       "col_0            0   1   2\n",
       "Clustered_data            \n",
       "0               13   0   0\n",
       "1                0  10   0\n",
       "2                0   0  17"
      ]
     },
     "execution_count": 83,
     "metadata": {},
     "output_type": "execute_result"
    }
   ],
   "source": [
    "pd.crosstab(y_test,y_predict)\n"
   ]
  },
  {
   "cell_type": "code",
   "execution_count": 84,
   "id": "b092db33",
   "metadata": {},
   "outputs": [
    {
     "name": "stdout",
     "output_type": "stream",
     "text": [
      "              precision    recall  f1-score   support\n",
      "\n",
      "           0       1.00      1.00      1.00        13\n",
      "           1       1.00      1.00      1.00        10\n",
      "           2       1.00      1.00      1.00        17\n",
      "\n",
      "    accuracy                           1.00        40\n",
      "   macro avg       1.00      1.00      1.00        40\n",
      "weighted avg       1.00      1.00      1.00        40\n",
      "\n"
     ]
    }
   ],
   "source": [
    "print(classification_report(y_test,y_predict))\n"
   ]
  },
  {
   "cell_type": "code",
   "execution_count": null,
   "id": "1308fbb6",
   "metadata": {},
   "outputs": [],
   "source": []
  },
  {
   "cell_type": "code",
   "execution_count": null,
   "id": "f56fae21",
   "metadata": {},
   "outputs": [],
   "source": []
  }
 ],
 "metadata": {
  "kernelspec": {
   "display_name": "Python 3 (ipykernel)",
   "language": "python",
   "name": "python3"
  },
  "language_info": {
   "codemirror_mode": {
    "name": "ipython",
    "version": 3
   },
   "file_extension": ".py",
   "mimetype": "text/x-python",
   "name": "python",
   "nbconvert_exporter": "python",
   "pygments_lexer": "ipython3",
   "version": "3.9.12"
  }
 },
 "nbformat": 4,
 "nbformat_minor": 5
}
